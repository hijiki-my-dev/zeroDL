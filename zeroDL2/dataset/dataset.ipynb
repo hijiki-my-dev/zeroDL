{
 "cells": [
  {
   "cell_type": "code",
   "execution_count": 3,
   "metadata": {},
   "outputs": [
    {
     "name": "stdout",
     "output_type": "stream",
     "text": [
      "<_io.TextIOWrapper name='date.txt' mode='r' encoding='UTF-8'>\n",
      "<built-in method read of _io.TextIOWrapper object at 0x10661ac20>\n"
     ]
    }
   ],
   "source": [
    "with open(\"date.txt\", \"r\") as f:\n",
    "    print(f)\n",
    "    print(f.read)"
   ]
  },
  {
   "cell_type": "code",
   "execution_count": null,
   "metadata": {},
   "outputs": [],
   "source": []
  }
 ],
 "metadata": {
  "kernelspec": {
   "display_name": ".venv",
   "language": "python",
   "name": "python3"
  },
  "language_info": {
   "codemirror_mode": {
    "name": "ipython",
    "version": 3
   },
   "file_extension": ".py",
   "mimetype": "text/x-python",
   "name": "python",
   "nbconvert_exporter": "python",
   "pygments_lexer": "ipython3",
   "version": "3.10.13"
  }
 },
 "nbformat": 4,
 "nbformat_minor": 2
}
